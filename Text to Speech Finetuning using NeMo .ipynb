{
 "cells": [
  {
   "cell_type": "markdown",
   "id": "ab7b323d-0b39-47f2-8021-b80b726b2a51",
   "metadata": {},
   "source": [
    "# Text to Speech Finetuning using NeMo"
   ]
  },
  {
   "cell_type": "markdown",
   "id": "c788245c-ecb9-454d-a1b5-77a26472ce4f",
   "metadata": {
    "execution": {
     "iopub.execute_input": "2024-06-27T10:01:36.147741Z",
     "iopub.status.busy": "2024-06-27T10:01:36.147144Z",
     "iopub.status.idle": "2024-06-27T10:01:36.150873Z",
     "shell.execute_reply": "2024-06-27T10:01:36.150307Z",
     "shell.execute_reply.started": "2024-06-27T10:01:36.147705Z"
    }
   },
   "source": [
    "NeMo Toolkit is a python based AI toolkit for training and customizing purpose-built pre-trained AI models with your own data.\n",
    "\n",
    "Transfer learning extracts learned features from an existing neural network to a new one. Transfer learning is often used when creating a large training dataset is not feasible.\n",
    "\n",
    "Developers, researchers and software partners building intelligent AI apps and services, can bring their own data to fine-tune pre-trained models instead of going through the hassle of training from scratch.\n",
    "\n",
    "Let’s see this in action with a use case for Speech Synthesis!"
   ]
  },
  {
   "cell_type": "markdown",
   "id": "e6e23cc2-58db-4041-bb78-7150f27b17e5",
   "metadata": {},
   "source": [
    "## Text to Speech"
   ]
  },
  {
   "cell_type": "markdown",
   "id": "3a460bd5-b8c0-48eb-9100-c6d18d597817",
   "metadata": {
    "execution": {
     "iopub.execute_input": "2024-06-27T10:04:38.779818Z",
     "iopub.status.busy": "2024-06-27T10:04:38.779459Z",
     "iopub.status.idle": "2024-06-27T10:04:38.787943Z",
     "shell.execute_reply": "2024-06-27T10:04:38.787107Z",
     "shell.execute_reply.started": "2024-06-27T10:04:38.779793Z"
    }
   },
   "source": [
    "Text to Speech (TTS) is often the last step in building a Conversational AI model. A TTS model converts text into audible speech. The main objective is to synthesize reasonable and natural speech for given text. Since there are no universal standard to measure quality of synthesized speech, you will need to listen to some inferred speech to tell whether a TTS model is well trained.\n",
    "\n",
    "In this tutorial we will look at two models: FastPitch for spectrogram generation and HiFiGAN as vocoder."
   ]
  },
  {
   "cell_type": "markdown",
   "id": "592831f6-f6c1-4c30-b4b2-5dfeb70dfed3",
   "metadata": {},
   "source": [
    "## Let’s Dig in: TTS using NeMo"
   ]
  },
  {
   "cell_type": "markdown",
   "id": "6f967e5e-36dd-4ce7-ac00-cf9a11c8b474",
   "metadata": {},
   "source": [
    "This notebook assumes that you are already familiar with TTS Training using NeMo, as described in the text-to-speech-training notebook, and that you have a pretrained TTS model.\n",
    "\n",
    "After installing NeMo, the next step is to setup the paths to save data and results. NeMo can be used with docker containers or virtual environments.\n",
    "\n",
    "Replace the variables FIXME with the required paths enclosed in “” as a string.\n",
    "\n",
    "IMPORTANT NOTE: Here, we map directories in which we save the data, specs, results and cache. You should configure it for your specific case so these directories are correctly visible to the docker container. Make sure this tutorial is in the NeMo folder."
   ]
  },
  {
   "cell_type": "markdown",
   "id": "3ccb03f0-7506-4f75-926d-8b3d6f9c22e0",
   "metadata": {
    "execution": {
     "iopub.execute_input": "2024-06-27T10:05:48.278868Z",
     "iopub.status.busy": "2024-06-27T10:05:48.278568Z",
     "iopub.status.idle": "2024-06-27T10:05:48.281953Z",
     "shell.execute_reply": "2024-06-27T10:05:48.281331Z",
     "shell.execute_reply.started": "2024-06-27T10:05:48.278844Z"
    }
   },
   "source": [
    "## Installation of packages and importing of files"
   ]
  },
  {
   "cell_type": "markdown",
   "id": "411c3342-8cb5-4bf1-9bd0-83055841c58b",
   "metadata": {},
   "source": [
    "We will first install all necessary packages."
   ]
  },
  {
   "cell_type": "code",
   "execution_count": null,
   "id": "28e0bfde-da14-48b4-9162-f81256d9cbfa",
   "metadata": {},
   "outputs": [],
   "source": [
    "# !pip install torch==2.0.1\n",
    "# !pip install torchvision==0.15.2\n",
    "# !pip install cython\n",
    "# !pip install nemo_toolkit['all']"
   ]
  },
  {
   "cell_type": "code",
   "execution_count": null,
   "id": "4a4aa00e-abed-404d-94e6-203205e6456b",
   "metadata": {},
   "outputs": [],
   "source": [
    "# ! pip install numba>=0.53\n",
    "# ! pip install librosa\n",
    "# ! pip install soundfile\n",
    "# ! pip install tqdm"
   ]
  },
  {
   "cell_type": "code",
   "execution_count": null,
   "id": "f8898db3-0741-4746-b3ad-eb340ae4f6ff",
   "metadata": {},
   "outputs": [],
   "source": [
    "# !pip install sox\n"
   ]
  },
  {
   "cell_type": "markdown",
   "id": "2353e0ab-a75b-4e79-bce9-890983776a90",
   "metadata": {},
   "source": [
    "Install the following packages only if you want to export your models to .riva format else you can skip it. We will now install the packages NeMo and nemo2riva. nemo2riva is available on ngc. Make sure you install NGC CLI first before running the following commands."
   ]
  },
  {
   "cell_type": "code",
   "execution_count": null,
   "id": "493731e4-eef0-4842-9b92-f896428f654b",
   "metadata": {},
   "outputs": [],
   "source": [
    "# !pip install nvidia-pyindex\n",
    "# !pip install nemo_toolkit['all']\n",
    "# # !ngc registry resource download-version \"nvidia/riva/riva_quickstart:2.8.1\"\n",
    "# # !pip install \"riva_quickstart_v2.8.1/nemo2riva-2.8.1-py3-none-any.whl\"\n",
    "# !pip install protobuf==3.20.2\n",
    "# # Installing pynini separately"
   ]
  },
  {
   "cell_type": "code",
   "execution_count": null,
   "id": "b9efdc28-b6d9-434f-89fb-e8424132eab0",
   "metadata": {},
   "outputs": [],
   "source": [
    "# !wget https://raw.githubusercontent.com/NVIDIA/NeMo/main/nemo_text_processing/install_pynini.sh \\\n",
    "# bash install_pynini.sh"
   ]
  },
  {
   "cell_type": "markdown",
   "id": "ece0680f-8aff-4c8a-88a3-7f39a414ed03",
   "metadata": {},
   "source": [
    "We will now import all the relevant files from NeMo"
   ]
  },
  {
   "cell_type": "code",
   "execution_count": null,
   "id": "103b15a4-ff18-48f1-a654-71996f714109",
   "metadata": {},
   "outputs": [],
   "source": [
    "# ! wget https://raw.githubusercontent.com/NVIDIA/NeMo/main/scripts/dataset_processing/tts/ljspeech/get_data.py\n",
    "    \n",
    "# ! wget https://raw.githubusercontent.com/NVIDIA/NeMo/main/scripts/dataset_processing/tts/extract_sup_data.py\n",
    "# ! mkdir -p ljspeech && cd ljspeech \\\n",
    "# && wget https://raw.githubusercontent.com/NVIDIA/NeMo/main/scripts/dataset_processing/tts/ljspeech/ds_conf/ds_for_fastpitch_align.yaml \\\n",
    "# && cd ..\n",
    "    \n",
    "# # additional files\n",
    "# !wget https://raw.githubusercontent.com/nvidia/NeMo/main/examples/tts/fastpitch_finetune.py\n",
    "\n",
    "# !mkdir -p conf \\\n",
    "# && cd conf \\\n",
    "# && wget https://raw.githubusercontent.com/nvidia/NeMo/main/examples/tts/conf/fastpitch_align_v1.05.yaml \\\n",
    "# && cd ..\n",
    "\n",
    "# !mkdir -p tts_dataset_files && cd tts_dataset_files \\\n",
    "# && wget https://raw.githubusercontent.com/NVIDIA/NeMo/main/scripts/tts_dataset_files/cmudict-0.7b_nv22.10 \\\n",
    "# && wget https://raw.githubusercontent.com/NVIDIA/NeMo/main/scripts/tts_dataset_files/heteronyms-052722 \\\n",
    "# && wget https://raw.githubusercontent.com/NVIDIA/NeMo/main/nemo_text_processing/text_normalization/en/data/whitelist/tts.tsv \\\n",
    "# && cd ..\n",
    "            \n",
    "# ! wget https://raw.githubusercontent.com/NVIDIA/NeMo/main/scripts/dataset_processing/tts/generate_mels.py\n",
    "    \n",
    "# ! wget https://raw.githubusercontent.com/nvidia/NeMo/main/examples/tts/hifigan_finetune.py"
   ]
  },
  {
   "cell_type": "markdown",
   "id": "f268b5fe-aca0-4720-84fa-5d7662dc63fa",
   "metadata": {},
   "source": [
    "## Set Relevant Paths"
   ]
  },
  {
   "cell_type": "code",
   "execution_count": null,
   "id": "3cdec481-2d57-4ecb-b2cf-6ff2cff3bf02",
   "metadata": {},
   "outputs": [],
   "source": [
    "# NOTE: The following paths are set from the perspective of the NeMo Docker.\n",
    "\n",
    "import os\n",
    "from pathlib import Path\n",
    "\n",
    "# The data is saved here\n",
    "DATA_DIR = \"data_dir\"\n",
    "RESULTS_DIR = \"results_dir\"\n",
    "\n",
    "! mkdir -p {DATA_DIR}\n",
    "! mkdir -p {RESULTS_DIR}\n",
    "\n",
    "os.environ[\"DATA_DIR\"] = DATA_DIR\n",
    "os.environ[\"RESULTS_DIR\"] = RESULTS_DIR"
   ]
  },
  {
   "cell_type": "markdown",
   "id": "2138cbe2-0be2-49a9-aceb-4954fdbfa955",
   "metadata": {},
   "source": [
    "## Data"
   ]
  },
  {
   "cell_type": "markdown",
   "id": "1e9b3e84-aee2-4c4e-ad2a-8930b7e03766",
   "metadata": {},
   "source": [
    "For the rest of this notebook, it is assumed that you have:\n",
    "\n",
    "Pretrained FastPitch and HiFiGAN models that were trained on LJSpeech sampled at 22kHz\n",
    "\n",
    "In the case that you are not using a TTS model trained on LJSpeech at the correct sampling rate. Please ensure that you have the original data, including wav files and a .json manifest file. If you have a TTS model but not at 22kHz, please ensure that you set the correct sampling rate, and fft parameters.\n",
    "\n",
    "For the rest of this notebook, we will be using a subset of audio samples from the Hi-Fi TTS dataset adding up to about one minute. This dataset is for demo purposes only. For a good quality model, we recommend at least 30 minutes of audio. If you want to record your own dataset, you can follow the Guidelines to Record a TTS Dataset at Home. Sample scripts to download and preprocess datasets supported by NeMo can be found here.\n",
    "\n",
    "Let’s first download and pre-process the original LJSpeech dataset and set variables that point to this as the original data’s .json file."
   ]
  },
  {
   "cell_type": "markdown",
   "id": "5f4a5f1b-fc17-437b-afe8-3757398fc895",
   "metadata": {},
   "source": [
    "## Pre-Processing"
   ]
  },
  {
   "cell_type": "markdown",
   "id": "98d5a593-b273-4887-a275-c465b0e0b72d",
   "metadata": {},
   "source": [
    "This step downloads audio to text file lists from NVIDIA for LJSpeech and generates the manifest files. If you use your own dataset, you have to generate three files: ljs_audio_text_train_manifest.json, ljs_audio_text_val_manifest.json, ljs_audio_text_test_manifest.json yourself. Those files correspond to your train / val / test split. For each text file, the number of rows should be equal to number of samples in this split and each row for a single speaker dataset should be like:"
   ]
  },
  {
   "cell_type": "code",
   "execution_count": null,
   "id": "b2429181-381e-4611-87f8-38e0f796bb46",
   "metadata": {},
   "outputs": [],
   "source": [
    "{\"audio_filepath\": \"path_to_audio_file\", \"text\": \"text_of_the_audio\", \"duration\": 300}"
   ]
  },
  {
   "cell_type": "markdown",
   "id": "f4805505-b711-4aa1-9670-250da50e3c44",
   "metadata": {},
   "source": [
    "In case of multi-speaker dataset"
   ]
  },
  {
   "cell_type": "code",
   "execution_count": null,
   "id": "87c80c45-5836-4c5f-93f5-f23e29e16f8b",
   "metadata": {},
   "outputs": [],
   "source": [
    "{\"audio_filepath\": \"path_to_audio_file\", \"text\": \"text_of_the_audio\", \"duration\": duration_of_the_audio, \"speaker\": speaker_id}"
   ]
  },
  {
   "cell_type": "markdown",
   "id": "a29c681d-856b-43af-b427-69cf2e85662d",
   "metadata": {},
   "source": [
    "An example row is:"
   ]
  },
  {
   "cell_type": "code",
   "execution_count": null,
   "id": "afb29269-09ec-44db-8eab-a368edeb3efb",
   "metadata": {},
   "outputs": [],
   "source": [
    "{\"audio_filepath\": \"actressinhighlife_01_bowen_0001.flac\", \"text\": \"the pleasant season did my heart employ\", \"duration\": 2.4}"
   ]
  },
  {
   "cell_type": "markdown",
   "id": "98bade19-0f0f-4cee-91b0-f1ad4d37a6d5",
   "metadata": {},
   "source": [
    "We will now download the audio and the manifest files then convert them to the above format, also normalize the text. These steps for LJSpeech can be found in NeMo scripts/dataset_processing/tts/ljspeech/get_data.py. Be patient, this step is expected to take some time."
   ]
  },
  {
   "cell_type": "code",
   "execution_count": null,
   "id": "cddd7470-8aec-4e4e-8fd9-a6d006921042",
   "metadata": {},
   "outputs": [],
   "source": [
    "# !pip show sox"
   ]
  },
  {
   "cell_type": "code",
   "execution_count": null,
   "id": "c1a37ca6-aeac-43a6-b2f5-ebfbef91fc53",
   "metadata": {},
   "outputs": [],
   "source": [
    "# ! python get_data.py --data-root {DATA_DIR}"
   ]
  },
  {
   "cell_type": "code",
   "execution_count": null,
   "id": "121f91c2-4036-48d1-afb6-ff853f07eada",
   "metadata": {},
   "outputs": [],
   "source": [
    "# !pip install wget\n"
   ]
  },
  {
   "cell_type": "code",
   "execution_count": null,
   "id": "58bbf627-6ffe-4f05-b196-a07debaf7b18",
   "metadata": {},
   "outputs": [],
   "source": [
    "import os\n",
    "\n",
    "original_data_json = os.path.join(os.environ[\"DATA_DIR\"], \"LJSpeech-1.1/train_manifest.json\")\n",
    "os.environ[\"original_data_json\"] = original_data_json"
   ]
  },
  {
   "cell_type": "markdown",
   "id": "d995104d-6829-41b0-91c4-fe1f7f7f0b38",
   "metadata": {},
   "source": [
    "Let’s now download the Hi-Fi TTS audio samples, and place the data in the DATA_DIR. Create a manifest file named manifest.json and copy the contents of both dev.json and train.json into it."
   ]
  },
  {
   "cell_type": "code",
   "execution_count": null,
   "id": "7c2407cb-be5d-4370-99f9-e838496907a0",
   "metadata": {},
   "outputs": [],
   "source": [
    "import os\n",
    "\n",
    "# Name of the untarred Hi-Fi TTS audio samples directory.\n",
    "finetune_data_name = \"LJSpeech-1.1\"\n",
    "# Absolute path of finetuning dataset from the perspective of NeMo container\n",
    "finetune_data_path = os.path.join(os.environ[\"DATA_DIR\"], finetune_data_name)\n",
    "\n",
    "os.environ[\"finetune_data_name\"] = finetune_data_name"
   ]
  },
  {
   "cell_type": "markdown",
   "id": "713b8f23-4f13-42d9-b040-04c5299ed3ec",
   "metadata": {},
   "source": [
    "Now that you have downloaded the data, let’s make sure that the audio clips and sample at the same sampling frequency as the clips used to train the pretrained model. For the course of this notebook, NVIDIA recommends using a model trained on the LJSpeech dataset. The sampling rate for this model is 22.05kHz."
   ]
  },
  {
   "cell_type": "code",
   "execution_count": null,
   "id": "2b4e6de5-a763-4222-8e61-391c6187e27f",
   "metadata": {},
   "outputs": [],
   "source": [
    "import soundfile\n",
    "import librosa\n",
    "import json\n",
    "import os\n",
    "\n",
    "def resample_audio(input_file_path, output_path, target_sampling_rate=22050):\n",
    "    \"\"\"Resample a single audio file.\n",
    "    \n",
    "    Args:\n",
    "        input_file_path (str): Path to the input audio file.\n",
    "        output_path (str): Path to the output audio file.\n",
    "        target_sampling_rate (int): Sampling rate for output audio file.\n",
    "        \n",
    "    Returns:\n",
    "        No explicit returns\n",
    "    \"\"\"\n",
    "    if not input_file_path.endswith(\".wav\"):\n",
    "        raise NotImplementedError(\"Loading only implemented for wav files.\")\n",
    "    if not os.path.exists(input_file_path):\n",
    "        raise FileNotFoundError(f\"Cannot file input file at {input_file_path}\")\n",
    "    audio, sampling_rate = librosa.load(\n",
    "      input_file_path,\n",
    "      sr=target_sampling_rate\n",
    "    )\n",
    "    # Filterring out empty audio files.\n",
    "    if librosa.get_duration(y=audio, sr=sampling_rate) == 0:\n",
    "        print(f\"0 duration audio file encountered at {input_file_path}\")\n",
    "        return None\n",
    "    filename = os.path.basename(input_file_path)\n",
    "    if not os.path.exists(output_path):\n",
    "        os.makedirs(output_path)\n",
    "    soundfile.write(\n",
    "        os.path.join(output_path, filename),\n",
    "        audio,\n",
    "        samplerate=target_sampling_rate,\n",
    "        format=\"wav\"\n",
    "    )\n",
    "    return filename"
   ]
  },
  {
   "cell_type": "code",
   "execution_count": null,
   "id": "95a16a3d-6a88-4ed4-bd66-bb6441740f53",
   "metadata": {},
   "outputs": [],
   "source": [
    "from tqdm.notebook import tqdm\n",
    "\n",
    "relative_path = f\"{finetune_data_name}/clips_resampled\"\n",
    "resampled_manifest_file = os.path.join(\n",
    "    os.environ[\"DATA_DIR\"],\n",
    "    f\"{finetune_data_name}/manifest_resampled.json\"\n",
    ")\n",
    "input_manifest_file = os.path.join(\n",
    "    os.environ[\"DATA_DIR\"],\n",
    "    f\"{finetune_data_name}/manifest.json\"\n",
    ")\n",
    "sampling_rate = 22050\n",
    "output_path = os.path.join(os.environ[\"DATA_DIR\"], relative_path)\n",
    "\n",
    "# Resampling the audio clip.\n",
    "with open(input_manifest_file, \"r\") as finetune_file:\n",
    "    with open(resampled_manifest_file, \"w\") as resampled_file:\n",
    "        for line in tqdm(finetune_file.readlines()):\n",
    "            data = json.loads(line)\n",
    "            filename = resample_audio(\n",
    "                os.path.join(\n",
    "                    data[\"audio_filepath\"]\n",
    "                ),\n",
    "                output_path,\n",
    "                target_sampling_rate=sampling_rate\n",
    "            )\n",
    "            if not filename:\n",
    "                print(\"Skipping clip {} from training dataset\")\n",
    "                continue\n",
    "            data[\"audio_filepath\"] = os.path.join(\n",
    "                os.environ[\"DATA_DIR\"],\n",
    "                relative_path, filename\n",
    "            )\n",
    "            resampled_file.write(f\"{json.dumps(data)}\\n\")\n",
    "\n",
    "assert resampled_file.closed, \"Output file wasn't closed properly\"\n",
    "assert finetune_file.closed, \"Input file wasn't closed properly\""
   ]
  },
  {
   "cell_type": "code",
   "execution_count": null,
   "id": "4e73c834-0c9c-4f4e-aac7-bf6c0dd7efaf",
   "metadata": {},
   "outputs": [],
   "source": [
    "# Splitting the dataset to train and val set.\n",
    "! cat $finetune_data_path/manifest_resampled.json | tail -n 2 > $finetune_data_path/manifest_val.json\n",
    "! cat $finetune_data_path/manifest_resampled.json | head -n -2 > $finetune_data_path/manifest_train.json"
   ]
  },
  {
   "cell_type": "code",
   "execution_count": null,
   "id": "bdbe4e30-bdbe-4ec3-a9ac-2667abd044b3",
   "metadata": {},
   "outputs": [],
   "source": [
    "from pathlib import Path\n",
    "\n",
    "finetune_data_json = os.path.join(os.environ[\"DATA_DIR\"], f'{finetune_data_name}/manifest_train.json')\n",
    "os.environ[\"finetune_data_json\"] = finetune_data_json\n",
    "os.environ[\"finetune_val_data_json\"] = os.path.join(os.environ[\"DATA_DIR\"], f'{finetune_data_name}/manifest_val.json')"
   ]
  },
  {
   "cell_type": "markdown",
   "id": "19228b4d-f23d-4aaa-96e8-c713a24dc008",
   "metadata": {},
   "source": [
    "The first step is to create a json that contains data from both the original data and the finetuning data. Since, the original data is much larger than the finetuning data, we merge the finetuning data with a sample of the original data. We can do this using the following:"
   ]
  },
  {
   "cell_type": "code",
   "execution_count": null,
   "id": "eaeeff60-27f4-4620-ab40-0ac5ad673939",
   "metadata": {},
   "outputs": [],
   "source": [
    "import random\n",
    "import json\n",
    "\n",
    "def json_reader(filename):\n",
    "    with open(filename) as f:\n",
    "        for line in f:\n",
    "            yield json.loads(line)\n",
    "            \n",
    "            \n",
    "def json_writer(file, json_objects):\n",
    "    with open(file, \"w\") as f:\n",
    "        for jsonobj in json_objects:\n",
    "            jsonstr = json.dumps(jsonobj)\n",
    "            f.write(jsonstr + \"\\n\")\n",
    "            \n",
    "            \n",
    "def dataset_merge(original_manifest, finetune_manifest, num_records_original=50):\n",
    "    original_ds = list(json_reader(original_manifest))\n",
    "    finetune_ds = list(json_reader(finetune_manifest))\n",
    "    original_ds = random.sample(original_ds, num_records_original)\n",
    "    merged_ds = original_ds + finetune_ds\n",
    "    random.shuffle(merged_ds)\n",
    "    return merged_ds"
   ]
  },
  {
   "cell_type": "code",
   "execution_count": null,
   "id": "9612003c-f58f-4351-bf70-30c5052607ef",
   "metadata": {},
   "outputs": [],
   "source": [
    "merged_ds = dataset_merge(os.environ[\"original_data_json\"], os.environ[\"finetune_data_json\"])\n",
    "\n",
    "os.environ[\"merged_data_json\"] = f\"{DATA_DIR}/{finetune_data_name}/merged_train.json\"\n",
    "json_writer(os.environ[\"merged_data_json\"], merged_ds)"
   ]
  },
  {
   "cell_type": "markdown",
   "id": "324227aa-aae2-4753-aa17-7958863cea0f",
   "metadata": {},
   "source": [
    "## Getting Pitch Statistics"
   ]
  },
  {
   "cell_type": "markdown",
   "id": "8434fbd2-a90d-41ac-9b1d-d4042524bc28",
   "metadata": {},
   "source": [
    "Training Fastpitch requires you to set 2 values for pitch extraction:\n",
    "\n",
    "avg: The average used to normalize the pitch\n",
    "\n",
    "std: The std deviation used to normalize the pitch\n",
    "\n",
    "We can compute pitch for the training data using scripts/dataset_processing/tts/extract_sup_data.py and extract pitch statistics using the NeMo script scripts/dataset_processing/tts/compute_speaker_stats.py, We have already downloaded the files earlier in the tutorial. Let’s use it to get pitch_mean and pitch_std.\n",
    "\n",
    "First we will extract the pitch supplementary data using extract_sup_data.py file. This file works with a yaml config file ds_for_fastpitch_align, which we downloaded above. To make this work for your dataset simply change the manifest_path to your manifest path. The argument sup_data_path determines where the supplementary data is stored."
   ]
  },
  {
   "cell_type": "code",
   "execution_count": null,
   "id": "2a38f20f-a8be-447a-82ee-e1aaf211cda9",
   "metadata": {},
   "outputs": [],
   "source": [
    "finetune_data_path"
   ]
  },
  {
   "cell_type": "code",
   "execution_count": null,
   "id": "51f01b1a-fe6a-437d-b359-312f4068dfc6",
   "metadata": {},
   "outputs": [],
   "source": []
  },
  {
   "cell_type": "code",
   "execution_count": null,
   "id": "4f78799d-326e-4416-831d-8c33625d47b8",
   "metadata": {},
   "outputs": [],
   "source": []
  },
  {
   "cell_type": "code",
   "execution_count": null,
   "id": "2c1cb72e-7e43-4115-a9bb-4b865cf5caa3",
   "metadata": {},
   "outputs": [],
   "source": [
    "# sup_data_path = f'{finetune_data_path}/sup_data_path'\n",
    "# pitch_stats_path = f'{finetune_data_path}/pitch_stats.json'\n",
    "\n",
    "sup_data_path = 'sup_data/pitch'\n",
    "pitch_stats_path = f'{finetune_data_path}/pitch_stats.json'\n",
    "\n",
    "# The script extract_sup_data.py writes the pitch mean and pitch std in the commandline. We will parse it to get the pitch mean and std\n",
    "cmd_str_list = !python extract_sup_data.py --config-path \"ljspeech\" manifest_filepath={os.environ[\"merged_data_json\"]} sup_data_path={sup_data_path}"
   ]
  },
  {
   "cell_type": "code",
   "execution_count": null,
   "id": "16b46e98-75b2-4d9b-aed9-39484a50e17d",
   "metadata": {},
   "outputs": [],
   "source": [
    "# cmd_str_list"
   ]
  },
  {
   "cell_type": "code",
   "execution_count": null,
   "id": "8c5c56ed-12a2-43bb-9967-1c26fa756253",
   "metadata": {},
   "outputs": [],
   "source": [
    "# Select only the line that contains PITCH_MEAN\n",
    "cmd_str = [c for c in cmd_str_list if \"PITCH_MEAN\" in c][0]"
   ]
  },
  {
   "cell_type": "code",
   "execution_count": null,
   "id": "c1161b34-d7be-423e-b258-cdb9fe08a0ab",
   "metadata": {},
   "outputs": [],
   "source": [
    "cmd_str"
   ]
  },
  {
   "cell_type": "code",
   "execution_count": null,
   "id": "a2e92d30-5589-4415-97a6-abfad5efd6af",
   "metadata": {},
   "outputs": [],
   "source": [
    "# Extract pitch mean and std from the commandline\n",
    "pitch_mean_str = cmd_str.split(',')[0]\n",
    "pitch_mean = float(pitch_mean_str.split('=')[1])\n",
    "pitch_std_str = cmd_str.split(',')[1]\n",
    "pitch_std = float(pitch_std_str.split('=')[1])\n",
    "pitch_mean, pitch_std"
   ]
  },
  {
   "cell_type": "markdown",
   "id": "b4b837db-a18e-4df6-8802-e242ba500853",
   "metadata": {},
   "source": [
    "Setting the pitch_fmean and pitch_fmax based on the results from the cell above."
   ]
  },
  {
   "cell_type": "code",
   "execution_count": null,
   "id": "60f9298e-f50e-4294-8628-0da650a36173",
   "metadata": {},
   "outputs": [],
   "source": [
    "pitch_mean=122.89828491210938\n",
    "pitch_std=33.49705505371094\n"
   ]
  },
  {
   "cell_type": "code",
   "execution_count": null,
   "id": "5750bab4-28dc-48f7-99e0-6bc34d12fb6e",
   "metadata": {},
   "outputs": [],
   "source": []
  },
  {
   "cell_type": "code",
   "execution_count": null,
   "id": "2434ba91-43c4-4160-afd2-2f50d2581a4a",
   "metadata": {},
   "outputs": [],
   "source": [
    "# sup_data_path = 'sup_data/pitch'"
   ]
  },
  {
   "cell_type": "code",
   "execution_count": null,
   "id": "4c89321b-5840-4429-893e-59def5bf5071",
   "metadata": {},
   "outputs": [],
   "source": [
    "# pitch_mean = 212.3087158203125\n",
    "# pitch_std = 68.07351684570312"
   ]
  },
  {
   "cell_type": "code",
   "execution_count": null,
   "id": "f5401851-13a0-41a4-a017-470c290ef384",
   "metadata": {},
   "outputs": [],
   "source": [
    "os.environ[\"pitch_mean\"] = str(pitch_mean)\n",
    "os.environ[\"pitch_std\"] = str(pitch_std)\n",
    "\n",
    "print(f\"pitch mean: {pitch_mean}\")\n",
    "print(f\"pitch std: {pitch_std}\")"
   ]
  },
  {
   "cell_type": "markdown",
   "id": "0f0cd543-d0ee-4e4e-9ae0-03da0fe24642",
   "metadata": {},
   "source": [
    "## Finetuning"
   ]
  },
  {
   "cell_type": "markdown",
   "id": "88c06c82-3608-49c0-8fef-20bd6ce90a43",
   "metadata": {},
   "source": [
    "We are now ready to finetune our TTS pipeline. In order to do so, you need to finetune FastPitch. For best results, you need to finetune HiFiGAN as well.\n",
    "\n",
    "Here we are using pretrained checkpoints from NGC, FastPitch and HiFiGAN"
   ]
  },
  {
   "cell_type": "markdown",
   "id": "c243130b-f942-4fab-845f-6f39570c147f",
   "metadata": {},
   "source": [
    "## Finetuning FastPitch"
   ]
  },
  {
   "cell_type": "markdown",
   "id": "9e16e0ef-5bd4-4749-8dd1-b13df4379769",
   "metadata": {},
   "source": [
    "We will need some additional files from NeMo to run finetuning on FastPitch, we have downloaded them earlier in the tutorial. In NeMo you can find the fastpitch_finetuning.py script and the config in examples section."
   ]
  },
  {
   "cell_type": "code",
   "execution_count": null,
   "id": "3f0be259-4c20-4e73-92ed-653ca8962b16",
   "metadata": {},
   "outputs": [],
   "source": [
    "!(python fastpitch_finetune.py --config-name=fastpitch_align_v1.05.yaml \\\n",
    "  train_dataset=$merged_data_json \\\n",
    "  validation_datasets=$finetune_val_data_json \\\n",
    "  sup_data_path=$sup_data_path \\\n",
    "  phoneme_dict_path=tts_dataset_files/cmudict-0.7b_nv22.10 \\\n",
    "  heteronyms_path=tts_dataset_files/heteronyms-052722 \\\n",
    "  exp_manager.exp_dir=$RESULTS_DIR \\\n",
    "  +init_from_pretrained_model=\"tts_en_fastpitch\" \\\n",
    "  trainer.check_val_every_n_epoch=10 \\\n",
    "  model.train_ds.dataloader_params.batch_size=1 \\\n",
    "  model.validation_ds.dataloader_params.batch_size=1 \\\n",
    "  model.n_speakers=1 \\\n",
    "  model.pitch_fmin=65.4063949584961 \\\n",
    "  model.pitch_fmax=2093.004638671875 \\\n",
    "  model.pitch_mean=$pitch_mean model.pitch_std=$pitch_std \\\n",
    "  model.optim.lr=2e-4 \\\n",
    "  ~model.optim.sched \\\n",
    "  model.optim.name=adam \\\n",
    "  trainer.devices=1 \\\n",
    "  +model.text_tokenizer.add_blank_at=true \\\n",
    ")\n"
   ]
  },
  {
   "cell_type": "code",
   "execution_count": null,
   "id": "c54f13bb-231d-4ed8-a993-9ec660dba3c9",
   "metadata": {},
   "outputs": [],
   "source": [
    "# !(python fastpitch_finetune.py --config-name=fastpitch_align_v1.05.yaml \\\n",
    "#   train_dataset=$merged_data_json \\\n",
    "#   validation_datasets=$finetune_val_data_json \\\n",
    "#   sup_data_path=$sup_data_path \\\n",
    "#   phoneme_dict_path=tts_dataset_files/cmudict-0.7b_nv22.10 \\\n",
    "#   heteronyms_path=tts_dataset_files/heteronyms-052722 \\\n",
    "#   exp_manager.exp_dir=$RESULTS_DIR \\\n",
    "#   +init_from_pretrained_model=\"tts_en_fastpitch\" \\\n",
    "#   trainer.check_val_every_n_epoch=10 \\\n",
    "#   model.train_ds.dataloader_params.batch_size=1 \\\n",
    "#   model.validation_ds.dataloader_params.batch_size=1 \\\n",
    "#   model.n_speakers=1 \\\n",
    "#   model.pitch_fmin=65.4063949584961 \\\n",
    "#   model.pitch_fmax=2093.004638671875 \\\n",
    "#   model.pitch_mean=$pitch_mean model.pitch_std=$pitch_std \\\n",
    "#   model.optim.lr=2e-4 \\\n",
    "#   ~model.optim.sched \\\n",
    "#   model.optim.name=adam \\\n",
    "#   trainer.devices=1 \\\n",
    "#   +model.text_tokenizer.add_blank_at=true \\\n",
    "#   trainer.use_amp=True \\\n",
    "#   trainer.precision=16 \\\n",
    "#   trainer.gradient_clip_val=1.0 \\\n",
    "#   trainer.max_epochs=100 \\\n",
    "#   trainer.limit_train_batches=100 \\\n",
    "#   trainer.limit_val_batches=100 \\\n",
    "# )\n"
   ]
  },
  {
   "cell_type": "code",
   "execution_count": null,
   "id": "921db0f5-cc32-40da-8370-ac4f5791750f",
   "metadata": {},
   "outputs": [],
   "source": []
  },
  {
   "cell_type": "markdown",
   "id": "72f852bb-f05e-4aa5-8ded-fb1edfdfe81f",
   "metadata": {},
   "source": [
    "Let’s take a closer look at the training command:\n",
    "\n",
    "--config-name=fastpitch_align_v1.05.yaml\n",
    "\n",
    "We first tell the script what config file to use.\n",
    "\n",
    "train_dataset=./9017_manifest_train_dur_5_mins_local.json  validation_datasets=./9017_manifest_dev_ns_all_local.json  sup_data_path=./fastpitch_sup_data\n",
    "\n",
    "We tell the script what manifest files to train and eval on, as well as where supplementary data is located (or will be calculated and saved during training if not provided).\n",
    "\n",
    "phoneme_dict_path=tts_dataset_files/cmudict-0.7b_nv22.10  heteronyms_path=tts_dataset_files/heteronyms-052722 whitelist_path=tts_dataset_files/tts.tsv \n",
    "\n",
    "We tell the script where phoneme_dict_path, heteronyms-052722 and whitelist_path are located. These are the additional files we downloaded earlier, and are used in preprocessing the data.\n",
    "\n",
    "exp_manager.exp_dir=./ljspeech_to_9017_no_mixing_5_mins\n",
    "\n",
    "Where we want to save our log files, tensorboard file, checkpoints, and more.\n",
    "\n",
    "+init_from_nemo_model=./tts_en_fastpitch_align.nemo\n",
    "\n",
    "We tell the script what checkpoint to finetune from.\n",
    "\n",
    "+trainer.max_steps=1000 ~trainer.max_epochs trainer.check_val_every_n_epoch=25\n",
    "\n",
    "For this experiment, we tell the script to train for 1000 training steps/iterations rather than specifying a number of epochs to run. Since the config file specifies max_epochs instead, we need to remove that using ~trainer.max_epochs.\n",
    "\n",
    "model.train_ds.dataloader_params.batch_size=24 model.validation_ds.dataloader_params.batch_size=24\n",
    "\n",
    "Set batch sizes for the training and validation data loaders.\n",
    "\n",
    "model.n_speakers=1\n",
    "\n",
    "The number of speakers in the data. There is only 1 for now, but we will revisit this parameter later in the notebook.\n",
    "\n",
    "model.pitch_mean=152.3 model.pitch_std=64.0 model.pitch_fmin=30 model.pitch_fmax=512\n",
    "\n",
    "For the new speaker, we need to define new pitch hyperparameters for better audio quality.\n",
    "\n",
    "These parameters work for speaker 9017 from the Hi-Fi TTS dataset.\n",
    "\n",
    "If you are using a custom dataset, running the script python <NeMo_base>/scripts/dataset_processing/tts/extract_sup_data.py manifest_filepath=<your_manifest_path> will precalculate supplementary data and print these pitch stats.\n",
    "\n",
    "fmin and fmax are hyperparameters to librosa’s pyin function. We recommend tweaking these only if the speaker is in a noisy environment, such that background noise isn’t predicted to be speech.\n",
    "\n",
    "model.optim.lr=2e-4 ~model.optim.sched model.optim.name=adam\n",
    "\n",
    "For fine-tuning, we lower the learning rate.\n",
    "\n",
    "We use a fixed learning rate of 2e-4.\n",
    "\n",
    "We switch from the lamb optimizer to the adam optimizer.\n",
    "\n",
    "trainer.devices=1 trainer.strategy=null\n",
    "\n",
    "For this notebook, we default to 1 gpu which means that we do not need ddp.\n",
    "\n",
    "If you have the compute resources, feel free to scale this up to the number of free gpus you have available.\n",
    "\n",
    "Please remove the trainer.strategy=null section if you intend on multi-gpu training."
   ]
  },
  {
   "cell_type": "markdown",
   "id": "19ad04b4-6aa4-4f7e-8f62-42fc46fc2827",
   "metadata": {},
   "source": [
    "## Finetuning HiFiGAN"
   ]
  },
  {
   "cell_type": "markdown",
   "id": "3bea8acb-2ca7-42ac-be4e-2fcbc33703f6",
   "metadata": {},
   "source": [
    "In order to get the best audio from HiFiGAN, we need to finetune it:\n",
    "\n",
    "on the new speaker\n",
    "\n",
    "using mel spectrograms from our finetuned FastPitch Model\n",
    "\n",
    "Let’s first generate mels from our FastPitch model, and save it to a new .json manifest for use with HiFiGAN. We can generate the mels using generate_mels.py file from NeMo."
   ]
  },
  {
   "cell_type": "code",
   "execution_count": null,
   "id": "d9d5dcba-4b78-492f-b0e3-a01b117d9d1e",
   "metadata": {},
   "outputs": [],
   "source": []
  },
  {
   "cell_type": "code",
   "execution_count": null,
   "id": "40e2e661-c836-4cdf-8ebd-f6560dab189b",
   "metadata": {
    "scrolled": true
   },
   "outputs": [],
   "source": [
    "fastpitch_checkpoint = \"results_dir/FastPitch/2024-07-05_10-55-02/checkpoints/FastPitch--val_loss=0.5794-epoch=39.ckpt\"\n",
    "mel_dir = f\"{finetune_data_path}/mels\"\n",
    "! mkdir -p mel_dir\n",
    "\n",
    "!(python generate_mels.py \\\n",
    "  --fastpitch-model-ckpt {fastpitch_checkpoint} \\\n",
    "  --input-json-manifests {os.environ[\"merged_data_json\"]} \\\n",
    "  --output-json-manifest-root {mel_dir} \\\n",
    " )"
   ]
  },
  {
   "cell_type": "markdown",
   "id": "5cf831b0-a9f9-4802-a3ff-9ad5baaef4e3",
   "metadata": {
    "execution": {
     "iopub.execute_input": "2024-06-27T10:18:35.952590Z",
     "iopub.status.busy": "2024-06-27T10:18:35.952289Z",
     "iopub.status.idle": "2024-06-27T10:18:35.955534Z",
     "shell.execute_reply": "2024-06-27T10:18:35.954939Z",
     "shell.execute_reply.started": "2024-06-27T10:18:35.952565Z"
    }
   },
   "source": [
    "## Finetuning HiFiGAN"
   ]
  },
  {
   "cell_type": "markdown",
   "id": "1425b8df-ae70-4fb0-8c1b-9f6ad2bfdcea",
   "metadata": {},
   "source": [
    "Now let’s finetune hifigan. Finetuning HiFiGAN can be done in NeMo using the script examples/tts/hifigan_finetune.py and configs present in examples/tts/conf/hifigan.\n",
    "\n",
    "Create a small validation dataset for HiFiGAN finetuning"
   ]
  },
  {
   "cell_type": "code",
   "execution_count": null,
   "id": "58628df8-0028-47a1-841e-c90e35ad30bb",
   "metadata": {},
   "outputs": [],
   "source": [
    "hifigan_full_ds = f\"{finetune_data_path}/mels/merged_full_mel.json\"\n",
    "hifigan_train_ds = f\"{finetune_data_path}/mels/merged_train_mel.json\"\n",
    "hifigan_val_ds = f\"{finetune_data_path}/mels/merged_val_mel.json\"\n",
    "\n",
    "! cat {hifigan_train_ds} > {hifigan_full_ds}\n",
    "! cat {hifigan_full_ds} | tail -n 2 > {hifigan_val_ds}\n",
    "! cat {hifigan_full_ds} | head -n -2 > {hifigan_train_ds}"
   ]
  },
  {
   "cell_type": "markdown",
   "id": "c6ba1c16-e997-4398-b624-6fd182356002",
   "metadata": {},
   "source": [
    "Run the following command for HiFiGAN finetuning"
   ]
  },
  {
   "cell_type": "code",
   "execution_count": null,
   "id": "f25ed1be-dc2f-462c-9487-557e1c2f2396",
   "metadata": {},
   "outputs": [],
   "source": [
    "# !(python examples/tts/hifigan_finetune.py \\\n",
    "# --config-name=hifigan.yaml \\\n",
    "# model.train_ds.dataloader_params.batch_size=32 \\\n",
    "# model.max_steps=1000 \\\n",
    "# model.optim.lr=0.00001 \\\n",
    "# ~model.optim.sched \\\n",
    "# train_dataset={hifigan_train_ds} \\\n",
    "# validation_datasets={hifigan_val_ds} \\\n",
    "# exp_manager.exp_dir={os.environ[\"RESULTS_DIR\"]} \\\n",
    "# +init_from_pretrained_model=tts_hifigan \\\n",
    "# trainer.check_val_every_n_epoch=10 \\\n",
    "# model/train_ds=train_ds_finetune \\\n",
    "# model/validation_ds=val_ds_finetune)"
   ]
  },
  {
   "cell_type": "code",
   "execution_count": null,
   "id": "9c0cdc50-65c1-4313-a177-859bae91ca9c",
   "metadata": {},
   "outputs": [],
   "source": [
    "# from nemo.collections.tts.models import HifiGanModel"
   ]
  },
  {
   "cell_type": "code",
   "execution_count": null,
   "id": "1f5a94ad-ada2-4368-b2a8-0a27fec447d9",
   "metadata": {
    "scrolled": true
   },
   "outputs": [],
   "source": [
    "# tts_hifigan = HifiGanModel.from_pretrained(\"tts_en_hifigan\")\n",
    "# tts_hifigan= tts_hifigan.eval().cuda()"
   ]
  },
  {
   "cell_type": "code",
   "execution_count": null,
   "id": "0b4c6583-689d-46e1-aec7-75b064828666",
   "metadata": {
    "scrolled": true
   },
   "outputs": [],
   "source": [
    "import os\n",
    "from nemo.collections.tts.models import HifiGanModel\n",
    "\n",
    "# List available models to verify the correct name\n",
    "print(HifiGanModel.list_available_models())\n"
   ]
  },
  {
   "cell_type": "code",
   "execution_count": null,
   "id": "d32cbb7f-fdc2-43b9-bc0b-c412814b7990",
   "metadata": {
    "scrolled": true
   },
   "outputs": [],
   "source": [
    "!(python hifigan_finetune.py \\\n",
    "--config-name=hifigan.yaml \\\n",
    "model.train_ds.dataloader_params.batch_size=4 \\\n",
    "model.max_steps=3000 \\\n",
    "model.optim.lr=0.00001 \\\n",
    "~model.optim.sched \\\n",
    "train_dataset={hifigan_train_ds} \\\n",
    "validation_datasets={hifigan_val_ds} \\\n",
    "exp_manager.exp_dir={os.environ[\"RESULTS_DIR\"]} \\\n",
    "+init_from_pretrained_model=tts_en_hifigan \\\n",
    "trainer.check_val_every_n_epoch=10 \\\n",
    "model/train_ds=train_ds_finetune \\\n",
    "model/validation_ds=val_ds_finetune)"
   ]
  },
  {
   "cell_type": "markdown",
   "id": "40cfde63-d0db-42fe-b867-e89da530a8ff",
   "metadata": {},
   "source": [
    "## TTS Inference"
   ]
  },
  {
   "cell_type": "markdown",
   "id": "a368195d-9594-4333-a88e-706d72dd9d50",
   "metadata": {},
   "source": [
    "As aforementioned, since there are no universal standard to measure quality of synthesized speech, you will need to listen to some inferred speech to tell whether a TTS model is well trained. Therefore, we do not provide evaluate functionality in NeMo Toolkit for TTS but only provide infer functionality."
   ]
  },
  {
   "cell_type": "markdown",
   "id": "d2d6e861-226c-43fb-aa82-83f241839d1f",
   "metadata": {},
   "source": [
    "## Generate spectrogram and audio"
   ]
  },
  {
   "cell_type": "markdown",
   "id": "37ef9f0e-f97a-4cd6-b69d-f7f433b4d5fd",
   "metadata": {},
   "source": [
    "The first step for inference is generating spectrogram. That’s a numpy array (saved as .npy file) for a sentence which can be converted to voice by a vocoder. We use FastPitch we just trained to generate spectrogram\n",
    "\n",
    "Please update the hifigan_checkpoint variable with the path to the HiFiGAN checkpoint you want to use.\n",
    "\n",
    "Let’s load the two models, FastPitch and HiFiGAN, for inference"
   ]
  },
  {
   "cell_type": "code",
   "execution_count": null,
   "id": "12b93530-fd9a-47a9-9f7c-9c5976b666de",
   "metadata": {},
   "outputs": [],
   "source": [
    "from nemo.collections.tts.models import FastPitchModel, HifiGanModel\n",
    "\n",
    "hifigan_checkpoint = 'results_dir/HifiGan/2024-07-05_16-41-49/checkpoints/HifiGan--val_loss=0.0000-epoch=3-last.ckpt'\n",
    "vocoder = HifiGanModel.load_from_checkpoint(hifigan_checkpoint)\n",
    "vocoder = vocoder.eval().cuda()\n",
    "spec_model = FastPitchModel.load_from_checkpoint(fastpitch_checkpoint)\n",
    "spec_model.eval().cuda()"
   ]
  },
  {
   "cell_type": "markdown",
   "id": "22917480-0ca4-44a0-b978-bdc5f40d34f1",
   "metadata": {},
   "source": [
    "Let’s create a helper method to do inference given a string input. In case of multi-speaker inference the same method can be used by passing the speaker ID as a parameter."
   ]
  },
  {
   "cell_type": "code",
   "execution_count": null,
   "id": "63d92718-087a-4ea1-8952-343687807e70",
   "metadata": {},
   "outputs": [],
   "source": [
    "import torch\n",
    "\n",
    "def infer(spec_gen_model, vocoder_model, str_input, speaker=None):\n",
    "    \"\"\"\n",
    "    Synthesizes spectrogram and audio from a text string given a spectrogram synthesis and vocoder model.\n",
    "    \n",
    "    Args:\n",
    "        spec_gen_model: Spectrogram generator model (FastPitch in our case)\n",
    "        vocoder_model: Vocoder model (HiFiGAN in our case)\n",
    "        str_input: Text input for the synthesis\n",
    "        speaker: Speaker ID\n",
    "    \n",
    "    Returns:\n",
    "        spectrogram and waveform of the synthesized audio.\n",
    "    \"\"\"\n",
    "    with torch.no_grad():\n",
    "        parsed = spec_gen_model.parse(str_input)\n",
    "        if speaker is not None:\n",
    "            speaker = torch.tensor([speaker]).long().to(device=spec_gen_model.device)\n",
    "        spectrogram = spec_gen_model.generate_spectrogram(tokens=parsed, speaker=speaker)\n",
    "        audio = vocoder_model.convert_spectrogram_to_audio(spec=spectrogram)\n",
    "        \n",
    "    if spectrogram is not None:\n",
    "        if isinstance(spectrogram, torch.Tensor):\n",
    "            spectrogram = spectrogram.to('cpu').numpy()\n",
    "        if len(spectrogram.shape) == 3:\n",
    "            spectrogram = spectrogram[0]\n",
    "    if isinstance(audio, torch.Tensor):\n",
    "        audio = audio.to('cpu').numpy()\n",
    "    return spectrogram, audio"
   ]
  },
  {
   "cell_type": "code",
   "execution_count": null,
   "id": "01ed4325-5a34-4496-bbf3-1df28f5a73a6",
   "metadata": {},
   "outputs": [],
   "source": [
    "import IPython.display as ipd\n",
    "from matplotlib.pyplot import imshow\n",
    "from matplotlib import pyplot as plt\n",
    "\n",
    "# Path to test manifest file (.json)\n",
    "test_records_path = \"data_dir/LJSpeech-1.1/test_manifest.json\"\n",
    "test_records = list(json_reader(test_records_path))\n",
    "new_speaker_id = 5\n",
    "\n",
    "for test_record in test_records:\n",
    "    print(\"Real validation audio\")\n",
    "    ipd.display(ipd.Audio(test_record['audio_filepath'], rate=22050))\n",
    "    duration_mins = test_record['duration']\n",
    "    if 'speaker' in test_record:\n",
    "        speaker_id = test_record['speaker']\n",
    "    else:\n",
    "        speaker_id = new_speaker_id\n",
    "    print(f\"SYNTHESIZED | Duration: {duration_mins} mins | Text: {test_record['text']}\")\n",
    "    spec, audio = infer(spec_model, vocoder, test_record['text'], speaker=speaker_id)\n",
    "    ipd.display(ipd.Audio(audio, rate=22050))\n",
    "    %matplotlib inline\n",
    "    imshow(spec, origin=\"lower\", aspect=\"auto\")\n",
    "    plt.show()"
   ]
  },
  {
   "cell_type": "markdown",
   "id": "171c3bbb-f506-4da1-b9b4-6dbe1dcc4dcd",
   "metadata": {
    "jp-MarkdownHeadingCollapsed": true
   },
   "source": [
    "## Debug"
   ]
  },
  {
   "cell_type": "markdown",
   "id": "48bd1bb1-55f4-46b4-876d-37b2e3ad9d61",
   "metadata": {},
   "source": [
    "The data provided is only meant to be a sample to understand how finetuning works in NeMo. In order to generate better speech quality, we recommend recording at least 30 mins of audio, and increasing the number of finetuning steps from the current trainer.max_steps=1000 to trainer.max_steps=5000 for both models."
   ]
  },
  {
   "cell_type": "markdown",
   "id": "f48e8534-2e12-4a2a-a19d-abf7977a5e78",
   "metadata": {},
   "source": [
    "## TTS model export"
   ]
  },
  {
   "cell_type": "markdown",
   "id": "9c98176f-c4a8-484d-9d39-15a18cee9668",
   "metadata": {},
   "source": [
    "You can also export your model in a format that can deployed using Nvidia Riva, a highly performant application framework for multi-modal conversational AI services using GPUs!"
   ]
  },
  {
   "cell_type": "markdown",
   "id": "090e5f0b-61ff-4656-8e96-3a6fd426cb40",
   "metadata": {
    "jp-MarkdownHeadingCollapsed": true
   },
   "source": [
    "## Export to RIVA"
   ]
  },
  {
   "cell_type": "markdown",
   "id": "def3237c-0e52-43a4-811a-61ab8d1ca48f",
   "metadata": {},
   "source": [
    "Executing the snippets in the cells below, allows you to generate a .riva model file for the spectrogram generator and vocoder models that were trained the preceding cells. These models are required to generate a complete Text-To-Speech pipeline."
   ]
  },
  {
   "cell_type": "markdown",
   "id": "af85bb29-018b-4f8c-a603-c84d88320b4f",
   "metadata": {
    "jp-MarkdownHeadingCollapsed": true
   },
   "source": [
    "## Convert to riva."
   ]
  },
  {
   "cell_type": "markdown",
   "id": "bce907da-4102-4cc9-bce7-3ce7623ac7d9",
   "metadata": {},
   "source": [
    "Convert the downloaded model to .riva format, we will use encryption key=nemotoriva. Change this while generating .riva models for production."
   ]
  },
  {
   "cell_type": "code",
   "execution_count": null,
   "id": "e8b81c9c-566e-4b50-b925-f84eb3e8297b",
   "metadata": {},
   "outputs": [],
   "source": [
    "hifigan_nemo_file_path = FIXME\n",
    "hifigan_riva_file_path = hifigan_nemo_file_path[:-5]+\".riva\"\n",
    "fastpitch_nemo_file_path = FIXME\n",
    "fastpitch_riva_file_path = fastpitch_nemo_file_path[:-5]+\".riva\"\n",
    "\n",
    "!nemo2riva --out {fastpitch_riva_file_path} --key=nemotoriva {fastpitch_nemo_file_path}\n",
    "!nemo2riva --out {hifigan_riva_file_path} --key=nemotoriva {hifigan_nemo_file_path}"
   ]
  },
  {
   "cell_type": "markdown",
   "id": "10ab608a-8fb9-4246-a0a8-1333712b5c93",
   "metadata": {},
   "source": [
    "## What’s Next ?"
   ]
  },
  {
   "cell_type": "markdown",
   "id": "c926084e-7704-426d-98b1-140b6ce1505a",
   "metadata": {},
   "source": [
    "You could use NeMo to build custom models for your own applications, and deploy them to Nvidia Riva! To try deploying these models to RIVA, use the tts-deploy.ipynb as a quick sample."
   ]
  },
  {
   "cell_type": "code",
   "execution_count": null,
   "id": "bd85b242-12b4-4d4a-9c0c-b4d7164e3b9f",
   "metadata": {},
   "outputs": [],
   "source": []
  },
  {
   "cell_type": "code",
   "execution_count": null,
   "id": "66d82803-b03c-44ab-b31b-effd40ae2230",
   "metadata": {},
   "outputs": [],
   "source": []
  }
 ],
 "metadata": {
  "kernelspec": {
   "display_name": "voice_full",
   "language": "python",
   "name": "voice_full"
  },
  "language_info": {
   "codemirror_mode": {
    "name": "ipython",
    "version": 3
   },
   "file_extension": ".py",
   "mimetype": "text/x-python",
   "name": "python",
   "nbconvert_exporter": "python",
   "pygments_lexer": "ipython3",
   "version": "3.10.12"
  }
 },
 "nbformat": 4,
 "nbformat_minor": 5
}
